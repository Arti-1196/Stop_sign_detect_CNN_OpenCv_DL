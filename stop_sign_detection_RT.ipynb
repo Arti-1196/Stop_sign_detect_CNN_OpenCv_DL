{
 "cells": [
  {
   "cell_type": "code",
   "execution_count": 2,
   "id": "aa3eceba-03b3-4633-9a69-0e26a3b09a0e",
   "metadata": {},
   "outputs": [],
   "source": [
    "import cv2"
   ]
  },
  {
   "cell_type": "code",
   "execution_count": 3,
   "id": "45c8cbf1-353f-46a5-8aa8-d913cb364c76",
   "metadata": {},
   "outputs": [],
   "source": [
    "stop_sign = cv2.CascadeClassifier(r'C:\\Users\\ArtiMarthak\\Downloads\\cv\\other_project\\stop_sign_detection-main\\cascade_stop_sign.xml')"
   ]
  },
  {
   "cell_type": "code",
   "execution_count": 4,
   "id": "7678ea19-c485-4fd3-8ee4-386be428bc0a",
   "metadata": {},
   "outputs": [],
   "source": [
    "cap = cv2.VideoCapture(0)"
   ]
  },
  {
   "cell_type": "code",
   "execution_count": 5,
   "id": "ee70a853-e096-437c-8e9e-ee9441ee01b8",
   "metadata": {},
   "outputs": [],
   "source": [
    "while cap.isOpened():\n",
    "    ret,img = cap.read()\n",
    "    gray = cv2.cvtColor(img,cv2.COLOR_BGR2GRAY)\n",
    "    stop_sign_scaled = stop_sign.detectMultiScale(gray,1.3,5)\n",
    "    \n",
    "    #detect stop sign, x,y = origin point, w=width,h=height\n",
    "    for(x,y,w,h) in stop_sign_scaled:\n",
    "        #draw rectangle around stop sign\n",
    "        stop_sign_rectangle = cv2.rectangle(img,(x,y),(x+w,y+h),(0,255,0),3)\n",
    "        \n",
    "        #write stop sign on bottom of the rectangle\n",
    "        stop_sign_text = cv2.putText(img = stop_sign_rectangle,\n",
    "                                    text = 'Stop Sign',\n",
    "                                    org = (x,y+h+30),\n",
    "                                    fontFace = cv2.FONT_HERSHEY_SIMPLEX,\n",
    "                                    fontScale = 1,\n",
    "                                    color = (0,0,255),\n",
    "                                    thickness = 2,\n",
    "                                    lineType = cv2.LINE_4)\n",
    "        \n",
    "    cv2.imshow('img',img)\n",
    "    key = cv2.waitKey(30)\n",
    "\n",
    "    if key == ord('q'):\n",
    "        cap.release()\n",
    "        cv2.destroyAllWindows()\n",
    "        break"
   ]
  },
  {
   "cell_type": "code",
   "execution_count": null,
   "id": "534093ff-9180-4323-b100-f74a84893ae2",
   "metadata": {},
   "outputs": [],
   "source": []
  }
 ],
 "metadata": {
  "kernelspec": {
   "display_name": "Python 3 (ipykernel)",
   "language": "python",
   "name": "python3"
  },
  "language_info": {
   "codemirror_mode": {
    "name": "ipython",
    "version": 3
   },
   "file_extension": ".py",
   "mimetype": "text/x-python",
   "name": "python",
   "nbconvert_exporter": "python",
   "pygments_lexer": "ipython3",
   "version": "3.9.7"
  }
 },
 "nbformat": 4,
 "nbformat_minor": 5
}
